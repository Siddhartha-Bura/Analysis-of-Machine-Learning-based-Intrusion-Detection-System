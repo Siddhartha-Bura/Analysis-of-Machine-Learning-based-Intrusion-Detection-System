{
 "cells": [
  {
   "cell_type": "markdown",
   "id": "ebbb1353",
   "metadata": {},
   "source": [
    "# Preprocessing Part 1"
   ]
  },
  {
   "cell_type": "code",
   "execution_count": null,
   "id": "67f74de8",
   "metadata": {},
   "outputs": [],
   "source": [
    "import pandas as pd\n",
    "import numpy as np\n",
    "\n",
    "df1=pd.read_csv('./data set/02-14-2018.csv')\n",
    "df2=pd.read_csv('./data set/02-15-2018.csv')\n",
    "df3=pd.read_csv('./data set/02-16-2018.csv')\n",
    "\n",
    "df5=pd.read_csv('./data set/02-21-2018.csv')\n",
    "df6=pd.read_csv('./data set/02-22-2018.csv')\n",
    "df7=pd.read_csv('./data set/02-23-2018.csv')\n",
    "df8=pd.read_csv('./data set/02-28-2018.csv')\n",
    "df9=pd.read_csv('./data set/03-01-2018.csv')\n",
    "df10=pd.read_csv('./data set/03-02-2018.csv')\n",
    "\n",
    "df1.head()\n",
    "\n",
    "completedf = pd.concat([df1,\n",
    "                       df2,\n",
    "                       df3,\n",
    "                       df5,\n",
    "                       df6,\n",
    "                       df7,\n",
    "                       df8,\n",
    "                       df9,\n",
    "                       df10],\n",
    "                      sort=False)\n",
    "\n",
    "completedf.shape\n",
    "\n",
    "print(df1.shape)\n",
    "print(df2.shape)\n",
    "print(df3.shape)\n",
    "print(df4.shape)\n",
    "print(df5.shape)\n",
    "print(df6.shape)\n",
    "print(df7.shape)\n",
    "print(df8.shape)\n",
    "print(df9.shape)\n",
    "print(df10.shape)\n",
    "\n",
    "completedf.to_csv('./data set/complete_data_without_onefile.csv')\n",
    "\n",
    "completedf.shape"
   ]
  },
  {
   "cell_type": "markdown",
   "id": "8f0424a4",
   "metadata": {},
   "source": [
    "# Preprocessing Part 2"
   ]
  },
  {
   "cell_type": "code",
   "execution_count": null,
   "id": "8b3e62cd",
   "metadata": {},
   "outputs": [],
   "source": [
    "import pandas as pd\n",
    "import os\n",
    "import sys\n",
    "import numpy as np\n",
    "\n",
    "from sklearn.model_selection import train_test_split\n",
    "from sklearn.ensemble import RandomForestClassifier\n",
    "from sklearn.metrics import f1_score, accuracy_score\n",
    "\n",
    "import matplotlib.pyplot as plt"
   ]
  },
  {
   "cell_type": "code",
   "execution_count": null,
   "id": "db6da18b",
   "metadata": {},
   "outputs": [],
   "source": [
    "df = pd.read_csv('./data set/complete_data_without_onefile.csv')\n",
    "df"
   ]
  },
  {
   "cell_type": "code",
   "execution_count": null,
   "id": "8c03c652",
   "metadata": {},
   "outputs": [],
   "source": [
    "df.shape"
   ]
  },
  {
   "cell_type": "code",
   "execution_count": null,
   "id": "9aa5efcd",
   "metadata": {},
   "outputs": [],
   "source": [
    "df.columns"
   ]
  },
  {
   "cell_type": "code",
   "execution_count": null,
   "id": "64096f2e",
   "metadata": {},
   "outputs": [],
   "source": [
    "df.shape"
   ]
  },
  {
   "cell_type": "code",
   "execution_count": null,
   "id": "cb930170",
   "metadata": {},
   "outputs": [],
   "source": [
    "df=df.drop(['Unnamed: 0','Timestamp'], axis=1)"
   ]
  },
  {
   "cell_type": "code",
   "execution_count": null,
   "id": "562dea28",
   "metadata": {},
   "outputs": [],
   "source": [
    "from sklearn import preprocessing\n",
    "label_encoder = preprocessing.LabelEncoder()\n",
    "df['Label']= label_encoder.fit_transform(df['Label'])"
   ]
  },
  {
   "cell_type": "code",
   "execution_count": null,
   "id": "d34f5bf8",
   "metadata": {},
   "outputs": [],
   "source": [
    "df.head()"
   ]
  },
  {
   "cell_type": "code",
   "execution_count": null,
   "id": "ff0112a4",
   "metadata": {},
   "outputs": [],
   "source": [
    "df.info()"
   ]
  },
  {
   "cell_type": "code",
   "execution_count": null,
   "id": "f96c4a07",
   "metadata": {},
   "outputs": [],
   "source": [
    "df.head()"
   ]
  },
  {
   "cell_type": "code",
   "execution_count": null,
   "id": "78b2a018",
   "metadata": {},
   "outputs": [],
   "source": [
    "df=df.dropna()"
   ]
  },
  {
   "cell_type": "code",
   "execution_count": null,
   "id": "54265507",
   "metadata": {},
   "outputs": [],
   "source": [
    "df['Dst Port'].value_counts()"
   ]
  },
  {
   "cell_type": "code",
   "execution_count": null,
   "id": "da1cfc15",
   "metadata": {},
   "outputs": [],
   "source": [
    "df=df.drop(['Dst Port'], axis=1)"
   ]
  },
  {
   "cell_type": "code",
   "execution_count": null,
   "id": "1fb7d1c2",
   "metadata": {},
   "outputs": [],
   "source": [
    "df.head()"
   ]
  },
  {
   "cell_type": "code",
   "execution_count": null,
   "id": "6daa3775",
   "metadata": {},
   "outputs": [],
   "source": [
    "df['URG Flag Cnt'].value_counts()"
   ]
  },
  {
   "cell_type": "code",
   "execution_count": null,
   "id": "0025bcc9",
   "metadata": {},
   "outputs": [],
   "source": [
    "df = df[df['URG Flag Cnt']!='URG Flag Cnt']"
   ]
  },
  {
   "cell_type": "code",
   "execution_count": null,
   "id": "c553a2be",
   "metadata": {},
   "outputs": [],
   "source": [
    "df['Protocol'].value_counts()"
   ]
  },
  {
   "cell_type": "code",
   "execution_count": null,
   "id": "9c52b2e8",
   "metadata": {},
   "outputs": [],
   "source": [
    "df['Protocol']=df['Protocol'].astype(str).astype(int)"
   ]
  },
  {
   "cell_type": "code",
   "execution_count": null,
   "id": "1babe6cd",
   "metadata": {},
   "outputs": [],
   "source": [
    "df['Protocol'].value_counts()"
   ]
  },
  {
   "cell_type": "code",
   "execution_count": null,
   "id": "43a71370",
   "metadata": {},
   "outputs": [],
   "source": [
    "from tqdm.notebook import tqdm\n",
    "for col in tqdm(df.columns):\n",
    "    df[col]=df[col].astype(str).astype(float)"
   ]
  },
  {
   "cell_type": "code",
   "execution_count": null,
   "id": "76760de8",
   "metadata": {},
   "outputs": [],
   "source": [
    "df = df.to_csv('./data set/final_2018.csv')"
   ]
  }
 ],
 "metadata": {
  "kernelspec": {
   "display_name": "Python 3 (ipykernel)",
   "language": "python",
   "name": "python3"
  },
  "language_info": {
   "codemirror_mode": {
    "name": "ipython",
    "version": 3
   },
   "file_extension": ".py",
   "mimetype": "text/x-python",
   "name": "python",
   "nbconvert_exporter": "python",
   "pygments_lexer": "ipython3",
   "version": "3.9.7"
  }
 },
 "nbformat": 4,
 "nbformat_minor": 5
}
