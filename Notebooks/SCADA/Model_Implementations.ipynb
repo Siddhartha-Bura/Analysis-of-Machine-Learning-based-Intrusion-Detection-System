{
 "cells": [
  {
   "cell_type": "markdown",
   "id": "89090db5",
   "metadata": {},
   "source": [
    "# K-Nearest Neighbor"
   ]
  },
  {
   "cell_type": "code",
   "execution_count": 14,
   "id": "8f077ea4",
   "metadata": {},
   "outputs": [
    {
     "data": {
      "text/plain": [
       "(1598430, 54)"
      ]
     },
     "execution_count": 14,
     "metadata": {},
     "output_type": "execute_result"
    }
   ],
   "source": [
    "from sklearn.neighbors import KNeighborsClassifier\n",
    "knn = KNeighborsClassifier(n_neighbors=5)\n",
    "\n",
    "pre_df = pd.read_csv('../../Datasets/SCADA/final_flow1.csv')\n",
    "\n",
    "apply_fun = [ 'icmpTmGtw', 'tcpAnomaly', 'tcpStatesAFlags', 'tcpFlags', 'tcpOptions']\n",
    "\n",
    "for col in apply_fun:\n",
    "    print(col)\n",
    "    pre_df[col] = pre_df[col].apply(lambda x: int(x, 0))"
   ]
  },
  {
   "cell_type": "code",
   "execution_count": 19,
   "id": "8399cecb",
   "metadata": {},
   "outputs": [],
   "source": [
    "pre_df = pre_df[ pre_df['label'] != 6]\n",
    "pre_df = pre_df[ pre_df['label'] != 5]\n",
    "pre_df['label'].value_counts()"
   ]
  },
  {
   "cell_type": "code",
   "execution_count": null,
   "id": "ad0e0c3c",
   "metadata": {},
   "outputs": [],
   "source": [
    "x = pre_df.iloc[:, :-1]\n",
    "y = pre_df.iloc[:, -1]\n",
    "\n",
    "x_train, x_test, y_train, y_test = train_test_split(x, y, test_size=0.2, random_state=42)"
   ]
  },
  {
   "cell_type": "code",
   "execution_count": 39,
   "id": "47631181",
   "metadata": {},
   "outputs": [
    {
     "name": "stdout",
     "output_type": "stream",
     "text": [
      "0.5945866632028884\n",
      "0.9999280544033833\n",
      "Precision: 0.596\n",
      "Recall: 0.593\n"
     ]
    },
    {
     "name": "stderr",
     "output_type": "stream",
     "text": [
      "/data/kmohan/anaconda3/lib/python3.9/site-packages/sklearn/metrics/_classification.py:1318: UndefinedMetricWarning: Precision is ill-defined and being set to 0.0 in labels with no predicted samples. Use `zero_division` parameter to control this behavior.\n",
      "  _warn_prf(average, modifier, msg_start, len(result))\n"
     ]
    }
   ],
   "source": [
    "knn.fit(x_train, y_train)\n",
    "y_pred = knn.predict(x_test)\n",
    "y_pred.shape\n",
    "\n",
    "print(f1_score(y_test, y_pred, average='macro'))\n",
    "print(accuracy_score(y_test, y_pred))\n",
    "\n",
    "precision = precision_score(y_test, y_pred, average='macro')#, pos_label=0)\n",
    "print('Precision: %.3f' % precision)\n",
    "\n",
    "recall = recall_score(y_test, y_pred, average='macro')#, pos_label=0)\n",
    "print('Recall: %.3f' % recall)"
   ]
  },
  {
   "cell_type": "code",
   "execution_count": null,
   "id": "74b551c2",
   "metadata": {},
   "outputs": [],
   "source": []
  },
  {
   "cell_type": "markdown",
   "id": "ffa79fa0",
   "metadata": {},
   "source": [
    "# Decision Tree"
   ]
  },
  {
   "cell_type": "code",
   "execution_count": 2,
   "id": "c8933fa0",
   "metadata": {},
   "outputs": [],
   "source": [
    "import pandas as pd\n",
    "import os\n",
    "import sys\n",
    "import numpy as np\n",
    "\n",
    "from sklearn.model_selection import train_test_split\n",
    "from sklearn.metrics  import accuracy_score,f1_score\n",
    "from sklearn.metrics import recall_score\n",
    "from sklearn.metrics import precision_score\n",
    "from sklearn.tree import DecisionTreeClassifier\n",
    "from sklearn.model_selection import train_test_split\n",
    "\n",
    "pre_df = pd.read_csv('../../Datasets/SCADA/final_flow1.csv')\n",
    "pre_df.shape\n",
    "\n",
    "apply_fun = [ 'icmpTmGtw', 'tcpAnomaly', 'tcpStatesAFlags', 'tcpFlags', 'tcpOptions']\n",
    "\n",
    "for col in apply_fun:\n",
    "    print(col)\n",
    "    pre_df[col] = pre_df[col].apply(lambda x: int(x, 0))\n",
    "\n",
    "\n",
    "pre_df = pre_df[ pre_df['label'] != 6]\n",
    "\n",
    "pre_df = pre_df[ pre_df['label'] != 5]\n",
    "\n",
    "pre_df['label'].value_counts()\n",
    "\n",
    "\n",
    "x = pre_df.iloc[:, :-1]\n",
    "y = pre_df.iloc[:, -1]\n",
    "\n",
    "x_train, x_test, y_train, y_test = train_test_split(x, y, test_size=0.2, random_state=42)"
   ]
  },
  {
   "cell_type": "code",
   "execution_count": 9,
   "id": "dfaaab87",
   "metadata": {},
   "outputs": [
    {
     "name": "stdout",
     "output_type": "stream",
     "text": [
      "0.9999906157917456\n",
      "0.784614445349859\n",
      "Precision: 0.785\n",
      "Recall: 0.785\n"
     ]
    },
    {
     "name": "stderr",
     "output_type": "stream",
     "text": [
      "/data/kmohan/anaconda3/lib/python3.9/site-packages/sklearn/metrics/_classification.py:1318: UndefinedMetricWarning: Precision is ill-defined and being set to 0.0 in labels with no predicted samples. Use `zero_division` parameter to control this behavior.\n",
      "  _warn_prf(average, modifier, msg_start, len(result))\n"
     ]
    }
   ],
   "source": [
    "clf2 = DecisionTreeClassifier(random_state=0)\n",
    "clf2 = DecisionTreeClassifier()\n",
    "clf2.fit(x_train,y_train)\n",
    "\n",
    "y_pred = clf2.predict(x_test)\n",
    "\n",
    "print(accuracy_score(y_test, y_pred))\n",
    "\n",
    "print(f1_score(y_test,y_pred,average='macro'))\n",
    "precision = precision_score(y_test, y_pred, average='macro')#, pos_label=0)\n",
    "print('Precision: %.3f' % precision)\n",
    "\n",
    "recall = recall_score(y_test, y_pred, average='macro')#, pos_label=0)\n",
    "print('Recall: %.3f' % recall)"
   ]
  },
  {
   "cell_type": "code",
   "execution_count": null,
   "id": "4fccd922",
   "metadata": {},
   "outputs": [],
   "source": []
  },
  {
   "cell_type": "markdown",
   "id": "5f38de36",
   "metadata": {},
   "source": [
    "# Random Forest Classifier"
   ]
  },
  {
   "cell_type": "code",
   "execution_count": 1,
   "id": "5bd312fa",
   "metadata": {},
   "outputs": [
    {
     "name": "stdout",
     "output_type": "stream",
     "text": [
      "icmpTmGtw\n",
      "tcpAnomaly\n",
      "tcpStatesAFlags\n",
      "tcpFlags\n",
      "tcpOptions\n"
     ]
    }
   ],
   "source": [
    "import pandas as pd\n",
    "import numpy as np\n",
    "import matplotlib.pyplot as plt\n",
    "\n",
    "pre_df = pd.read_csv('../../Datasets/SCADA/final_flow1.csv')\n",
    "pre_df.shape\n",
    "\n",
    "pre_df.columns\n",
    "\n",
    "apply_fun = [ 'icmpTmGtw', 'tcpAnomaly', 'tcpStatesAFlags', 'tcpFlags', 'tcpOptions']\n",
    "\n",
    "for col in apply_fun:\n",
    "    print(col)\n",
    "    pre_df[col] = pre_df[col].apply(lambda x: int(x, 0))\n",
    "\n",
    "\n",
    "pre_df = pre_df[ pre_df['label'] != 6]\n",
    "\n",
    "pre_df = pre_df[ pre_df['label'] != 5]\n",
    "\n",
    "pre_df['label'].value_counts()\n",
    "\n",
    "import pandas as pd\n",
    "import os\n",
    "import sys\n",
    "import numpy as np\n",
    "\n",
    "from sklearn.model_selection import train_test_split\n",
    "from sklearn.ensemble import RandomForestClassifier\n",
    "from sklearn.metrics import f1_score, accuracy_score\n",
    "from sklearn.model_selection import train_test_split\n",
    "import matplotlib.pyplot as plt\n",
    "from sklearn.metrics import recall_score\n",
    "from sklearn.metrics import precision_score\n",
    "\n",
    "x = pre_df.iloc[:, :-1]\n",
    "y = pre_df.iloc[:, -1]\n",
    "\n",
    "x_train, x_test, y_train, y_test = train_test_split(x, y, test_size=0.2, random_state=42)"
   ]
  },
  {
   "cell_type": "code",
   "execution_count": 2,
   "id": "a1af35fa",
   "metadata": {},
   "outputs": [
    {
     "name": "stdout",
     "output_type": "stream",
     "text": [
      "0.7919993738239631\n",
      "0.9999937438611638\n",
      "Precision: 0.800\n",
      "Recall: 0.785\n"
     ]
    },
    {
     "name": "stderr",
     "output_type": "stream",
     "text": [
      "/data/kmohan/anaconda3/lib/python3.9/site-packages/sklearn/metrics/_classification.py:1318: UndefinedMetricWarning: Precision is ill-defined and being set to 0.0 in labels with no predicted samples. Use `zero_division` parameter to control this behavior.\n",
      "  _warn_prf(average, modifier, msg_start, len(result))\n"
     ]
    }
   ],
   "source": [
    "forest = RandomForestClassifier(random_state = 0)\n",
    "forest.fit(x_train, y_train)\n",
    "\n",
    "y_pred = forest.predict(x_test)\n",
    "y_pred.shape\n",
    "\n",
    "from sklearn.metrics import recall_score\n",
    "from sklearn.metrics import precision_score\n",
    "print(f1_score(y_test, y_pred, average='macro'))\n",
    "print(accuracy_score(y_test, y_pred))\n",
    "precision = precision_score(y_test, y_pred, average='macro')#, pos_label=0)\n",
    "print('Precision: %.3f' % precision)\n",
    "\n",
    "recall = recall_score(y_test, y_pred, average='macro')#, pos_label=0)\n",
    "print('Recall: %.3f' % recall)\n"
   ]
  },
  {
   "cell_type": "markdown",
   "id": "2e49a866",
   "metadata": {},
   "source": [
    "# Naive Bayes"
   ]
  },
  {
   "cell_type": "code",
   "execution_count": 4,
   "id": "01b0c9f5",
   "metadata": {},
   "outputs": [
    {
     "name": "stdout",
     "output_type": "stream",
     "text": [
      "icmpTmGtw\n",
      "tcpAnomaly\n",
      "tcpStatesAFlags\n",
      "tcpFlags\n",
      "tcpOptions\n"
     ]
    }
   ],
   "source": [
    "import pandas as pd\n",
    "import numpy as np\n",
    "import matplotlib.pyplot as plt\n",
    "\n",
    "pre_df = pd.read_csv('../../Datasets/SCADA/final_flow1.csv')\n",
    "pre_df.shape\n",
    "\n",
    "pre_df.columns\n",
    "\n",
    "apply_fun = [ 'icmpTmGtw', 'tcpAnomaly', 'tcpStatesAFlags', 'tcpFlags', 'tcpOptions']\n",
    "\n",
    "for col in apply_fun:\n",
    "    print(col)\n",
    "    pre_df[col] = pre_df[col].apply(lambda x: int(x, 0))\n",
    "\n",
    "\n",
    "pre_df = pre_df[ pre_df['label'] != 6]\n",
    "\n",
    "pre_df = pre_df[ pre_df['label'] != 5]\n",
    "\n",
    "pre_df['label'].value_counts()\n",
    "\n",
    "import pandas as pd\n",
    "import os\n",
    "import sys\n",
    "import numpy as np\n",
    "\n",
    "from sklearn.model_selection import train_test_split\n",
    "from sklearn.metrics import f1_score, accuracy_score\n",
    "from sklearn.model_selection import train_test_split\n",
    "import matplotlib.pyplot as plt\n",
    "from sklearn.metrics import recall_score\n",
    "from sklearn.metrics import precision_score\n",
    "\n",
    "x = pre_df.iloc[:, :-1]\n",
    "y = pre_df.iloc[:, -1]\n",
    "\n",
    "x_train, x_test, y_train, y_test = train_test_split(x, y, test_size=0.2, random_state=42)"
   ]
  },
  {
   "cell_type": "code",
   "execution_count": 5,
   "id": "49c4c582",
   "metadata": {},
   "outputs": [
    {
     "name": "stdout",
     "output_type": "stream",
     "text": [
      "0.3322851965925391\n",
      "0.4976257953116496\n",
      "Precision: 0.398\n",
      "Recall: 0.699\n"
     ]
    },
    {
     "name": "stderr",
     "output_type": "stream",
     "text": [
      "/data/kmohan/anaconda3/lib/python3.9/site-packages/sklearn/metrics/_classification.py:1318: UndefinedMetricWarning: Precision is ill-defined and being set to 0.0 in labels with no predicted samples. Use `zero_division` parameter to control this behavior.\n",
      "  _warn_prf(average, modifier, msg_start, len(result))\n"
     ]
    }
   ],
   "source": [
    "from sklearn.naive_bayes import GaussianNB\n",
    "\n",
    "gnb = GaussianNB()\n",
    "\n",
    "gnb.fit(x_train, y_train)\n",
    "\n",
    "\n",
    "y_pred = gnb.predict(x_test)\n",
    "y_pred.shape\n",
    "\n",
    "print(f1_score(y_test, y_pred, average= 'macro'))\n",
    "print(accuracy_score(y_test, y_pred))\n",
    "\n",
    "precision = precision_score(y_test, y_pred, average='macro')#, pos_label=0)\n",
    "print('Precision: %.3f' % precision)\n",
    "\n",
    "recall = recall_score(y_test, y_pred, average='macro')#, pos_label=0)\n",
    "print('Recall: %.3f' % recall)"
   ]
  },
  {
   "cell_type": "code",
   "execution_count": null,
   "id": "6236871f",
   "metadata": {},
   "outputs": [],
   "source": []
  },
  {
   "cell_type": "markdown",
   "id": "729f0c64",
   "metadata": {},
   "source": [
    "# Support Vector Classifier"
   ]
  },
  {
   "cell_type": "markdown",
   "id": "f13e36b6",
   "metadata": {},
   "source": [
    "We could not provide results as it took too much time while training."
   ]
  },
  {
   "cell_type": "code",
   "execution_count": null,
   "id": "e8450a68",
   "metadata": {},
   "outputs": [],
   "source": [
    "import pandas as pd\n",
    "import os\n",
    "import sys\n",
    "import numpy as np\n",
    "from sklearn.metrics import recall_score\n",
    "from sklearn.metrics import precision_score\n",
    "from sklearn.model_selection import train_test_split\n",
    "from sklearn.metrics import f1_score, accuracy_score\n",
    "from sklearn.model_selection import train_test_split\n",
    "import matplotlib.pyplot as plt\n",
    "\n",
    "pre_df = pd.read_csv('../../Datasets/SCADA/final_flow1.csv')\n",
    "pre_df.shape\n",
    "pre_df.columns\n",
    "apply_fun = [ 'icmpTmGtw', 'tcpAnomaly', 'tcpStatesAFlags', 'tcpFlags', 'tcpOptions']\n",
    "for col in apply_fun:\n",
    "    print(col)\n",
    "    pre_df[col] = pre_df[col].apply(lambda x: int(x, 0))\n",
    "\n",
    "\n",
    "pre_df = pre_df[ pre_df['label'] != 6]\n",
    "pre_df = pre_df[ pre_df['label'] != 5]\n",
    "pre_df['label'].value_counts()"
   ]
  },
  {
   "cell_type": "code",
   "execution_count": null,
   "id": "bb24416f",
   "metadata": {},
   "outputs": [],
   "source": [
    "x = pre_df.iloc[:, :-1]\n",
    "y = pre_df.iloc[:, -1]\n",
    "x_train, x_test, y_train, y_test = train_test_split(x, y, test_size=0.2, random_state=42)"
   ]
  },
  {
   "cell_type": "code",
   "execution_count": null,
   "id": "bfb0d28c",
   "metadata": {},
   "outputs": [],
   "source": [
    "from sklearn.svm import SVC\n",
    "\n",
    "clf = SVC().fit(x_train, y_train)\n",
    "\n",
    "y_pred = clf.predict(x_test)\n",
    "\n",
    "print(f1_score(y_test, y_pred, average='macro'))\n",
    "print(accuracy_score(y_test, y_pred))\n",
    "\n",
    "precision = precision_score(y_test, y_pred, average='macro')#, pos_label=0)\n",
    "print('Precision: %.3f' % precision)\n",
    "\n",
    "recall = recall_score(y_test, y_pred, average='macro')#, pos_label=0)\n",
    "print('Recall: %.3f' % recall)"
   ]
  }
 ],
 "metadata": {
  "kernelspec": {
   "display_name": "Python 3 (ipykernel)",
   "language": "python",
   "name": "python3"
  },
  "language_info": {
   "codemirror_mode": {
    "name": "ipython",
    "version": 3
   },
   "file_extension": ".py",
   "mimetype": "text/x-python",
   "name": "python",
   "nbconvert_exporter": "python",
   "pygments_lexer": "ipython3",
   "version": "3.9.7"
  }
 },
 "nbformat": 4,
 "nbformat_minor": 5
}
