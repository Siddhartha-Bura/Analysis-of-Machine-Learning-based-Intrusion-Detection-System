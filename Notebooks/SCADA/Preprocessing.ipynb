{
 "cells": [
  {
   "cell_type": "code",
   "execution_count": 1,
   "id": "98a3d31a",
   "metadata": {},
   "outputs": [],
   "source": [
    "import csv\n",
    "\n",
    "fp = open('../../Datasets/SCADA/scada1_flows.txt', 'r')\n",
    "mylines = []\n",
    "\n",
    "for line in fp:\n",
    "    mylines.append(line.split('\\t'))\n"
   ]
  },
  {
   "cell_type": "code",
   "execution_count": 2,
   "id": "e5d0871f",
   "metadata": {},
   "outputs": [],
   "source": [
    "writer = csv.writer(open('final_flow.csv', 'w'))\n",
    "writer.writerows(mylines)"
   ]
  },
  {
   "cell_type": "code",
   "execution_count": 2,
   "id": "466fd33d",
   "metadata": {},
   "outputs": [],
   "source": [
    "import pandas as pd\n",
    "import numpy as np\n",
    "import matplotlib.pyplot as plt"
   ]
  },
  {
   "cell_type": "code",
   "execution_count": 10,
   "id": "dd3260db",
   "metadata": {},
   "outputs": [
    {
     "name": "stderr",
     "output_type": "stream",
     "text": [
      "/data/kmohan/anaconda3/lib/python3.9/site-packages/IPython/core/interactiveshell.py:3444: DtypeWarning: Columns (11,14) have mixed types.Specify dtype option on import or set low_memory=False.\n",
      "  exec(code_obj, self.user_global_ns, self.user_ns)\n"
     ]
    }
   ],
   "source": [
    "df1= pd.read_csv('../../Datasets/SCADA/final_flow.csv')"
   ]
  },
  {
   "cell_type": "code",
   "execution_count": 43,
   "id": "712f0b70",
   "metadata": {},
   "outputs": [],
   "source": [
    "x=df1.columns"
   ]
  },
  {
   "cell_type": "code",
   "execution_count": 45,
   "id": "bac96631",
   "metadata": {},
   "outputs": [
    {
     "data": {
      "text/plain": [
       "Index(['ethVlanID', 'srcIPCC', 'srcIPOrg', 'srcPort', 'dstIPCC', 'dstIPOrg',\n",
       "       'dstPort', 'l4Proto', 'macStat', 'macPairs', 'srcMac_dstMac_numP',\n",
       "       'srcMacLbl_dstMacLbl', 'dstPortClassN', 'dstPortClass', 'numPktsSnt',\n",
       "       'numPktsRcvd', 'numBytesSnt', 'numBytesRcvd', 'minPktSz', 'maxPktSz',\n",
       "       'avePktSize', 'stdPktSize', 'minIAT', 'maxIAT', 'aveIAT', 'stdIAT',\n",
       "       'pktps', 'bytps', 'pktAsm', 'bytAsm', 'tcpFStat', 'ipMindIPID',\n",
       "       'ipMaxdIPID', 'ipMinTTL', 'ipMaxTTL', 'ipTTLChg', 'ipToS', 'ipFlags',\n",
       "       'ipOptCnt', 'ipOptCpCl_Num', 'ip6OptCntHH_D', 'ip6OptHH_D', 'tcpISeqN',\n",
       "       'tcpPSeqCnt', 'tcpSeqSntBytes', 'tcpSeqFaultCnt', 'tcpPAckCnt',\n",
       "       'tcpFlwLssAckRcvdBytes', 'tcpAckFaultCnt', 'tcpBFlgtMx', 'tcpInitWinSz',\n",
       "       'tcpAveWinSz', 'tcpMinWinSz', 'tcpMaxWinSz', 'tcpWinSzDwnCnt',\n",
       "       'tcpWinSzUpCnt', 'tcpWinSzChgDirCnt', 'tcpWinSzThRt', 'tcpFlags',\n",
       "       'tcpAnomaly', 'tcpOptPktCnt', 'tcpOptCnt', 'tcpOptions', 'tcpMSS',\n",
       "       'tcpWS', 'tcpMPTBF', 'tcpMPF', 'tcpMPAID', 'tcpMPdssF', 'tcpTmS',\n",
       "       'tcpTmER', 'tcpEcI', 'tcpUtm', 'tcpBtm', 'tcpSSASAATrip',\n",
       "       'tcpRTTAckTripMin', 'tcpRTTAckTripMax', 'tcpRTTAckTripAve',\n",
       "       'tcpRTTAckTripJitAve', 'tcpRTTSseqAA', 'tcpRTTAckJitAve',\n",
       "       'tcpStatesAFlags', 'icmpStat', 'icmpTCcnt', 'icmpBFTypH_TypL_Code',\n",
       "       'icmpTmGtw', 'icmpEchoSuccRatio', 'icmpPFindex', 'connSip', 'connDip',\n",
       "       'connSipDip', 'connSipDprt', 'connF\\n', 'label'],\n",
       "      dtype='object')"
      ]
     },
     "execution_count": 45,
     "metadata": {},
     "output_type": "execute_result"
    }
   ],
   "source": [
    "x[10:]"
   ]
  },
  {
   "cell_type": "code",
   "execution_count": 12,
   "id": "6d6dcd51",
   "metadata": {},
   "outputs": [],
   "source": [
    "df1.describe().to_csv('description.csv')"
   ]
  },
  {
   "cell_type": "code",
   "execution_count": null,
   "id": "0a8221e2",
   "metadata": {
    "scrolled": true
   },
   "outputs": [],
   "source": [
    "df1[\"label\"]=int(0)\n",
    "\n",
    "for x,y in df1.iterrows():\n",
    "    if y[\"srcIP\"]==\"192.168.20.105\":\n",
    "        df1.at[x,\"label\"]=1\n",
    "    elif y[\"srcIP\"]==\"192.168.20.106\":\n",
    "        df1.at[x,\"label\"]=2\n",
    "    elif y[\"srcIP\"]==\"192.168.20.107\":\n",
    "        df1.at[x,\"label\"]=3\n",
    "    elif y[\"srcIP\"]==\"192.168.20.108\":\n",
    "        df1.at[x,\"label\"]=4\n",
    "    elif y[\"srcIP\"]==\"192.168.20.109\":\n",
    "        df1.at[x,\"label\"]=5\n",
    "    elif y[\"srcIP\"]==\"192.168.20.110\":\n",
    "        df1.at[x,\"label\"]=6\n",
    "    "
   ]
  },
  {
   "cell_type": "code",
   "execution_count": null,
   "id": "d56a8936",
   "metadata": {},
   "outputs": [],
   "source": [
    "df1['label'].value_counts()"
   ]
  },
  {
   "cell_type": "code",
   "execution_count": 8,
   "id": "77de1fae",
   "metadata": {},
   "outputs": [
    {
     "data": {
      "text/plain": [
       "54"
      ]
     },
     "execution_count": 8,
     "metadata": {},
     "output_type": "execute_result"
    }
   ],
   "source": [
    "drop_columns = [\n",
    "    'flowInd',\n",
    "    'flowStat',\n",
    "    'srcMac',\n",
    "    'srcIP',\n",
    "    'dstMac',\n",
    "    'ethType',\n",
    "    'hdrDesc',\n",
    "    'srcIPCC',\n",
    "    'srcIPOrg',\n",
    "    'timeFirst',\n",
    "    'timeLast',\n",
    "    'numHdrDesc',\n",
    "    'ethVlanID',\n",
    "    'macPairs',\n",
    "    'pktAsm',\n",
    "    'bytAsm',\n",
    "    'ipOptCnt',\n",
    "    'tcpSeqFaultCnt',\n",
    "    'tcpPAckCnt',\n",
    "    'tcpAckFaultCnt',\n",
    "    'tcpWinSzDwnCnt',\n",
    "    'tcpWinSzUpCnt',\n",
    "    'tcpWinSzChgDirCnt',\n",
    "    'tcpOptPktCnt',\n",
    "    'tcpOptCnt',\n",
    "    'tcpMPAID',\n",
    "    'tcpEcI',\n",
    "    'tcpSSASAATrip',\n",
    "    'tcpRTTAckTripMax',\n",
    "    'tcpRTTAckTripAve',\n",
    "    'tcpRTTAckTripJitAve',\n",
    "    'tcpRTTSseqAA',\n",
    "    'tcpRTTAckJitAve',\n",
    "    'icmpTCcnt',\n",
    "    'icmpEchoSuccRatio',\n",
    "    '%dir',\n",
    "    'dstIP',\n",
    "    'dstIPCC',\n",
    "    'dstIPOrg',\n",
    "    'macStat',\n",
    "    'srcMac_dstMac_numP',\n",
    "    'srcMacLbl_dstMacLbl',\n",
    "    'dstPortClass',\n",
    "    'tcpFStat',\n",
    "    'ipToS',\n",
    "    'ipFlags',\n",
    "    'ipOptCpCl_Num',\n",
    "    'ip6OptCntHH_D',\n",
    "    'ip6OptHH_D',\n",
    "    'tcpMPTBF',\n",
    "    'tcpMPF',\n",
    "    'tcpMPdssF',\n",
    "    'icmpStat',\n",
    "    'icmpBFTypH_TypL_Code'\n",
    "]\n",
    "len(drop_columns)"
   ]
  },
  {
   "cell_type": "code",
   "execution_count": 9,
   "id": "42b7c7ca",
   "metadata": {
    "collapsed": true
   },
   "outputs": [
    {
     "ename": "KeyError",
     "evalue": "\"['srcMac' 'srcIP' 'dstMac' 'hdrDesc' 'dstIP'] not found in axis\"",
     "output_type": "error",
     "traceback": [
      "\u001b[0;31m---------------------------------------------------------------------------\u001b[0m",
      "\u001b[0;31mKeyError\u001b[0m                                  Traceback (most recent call last)",
      "\u001b[0;32m/tmp/ipykernel_34853/1947972645.py\u001b[0m in \u001b[0;36m<module>\u001b[0;34m\u001b[0m\n\u001b[0;32m----> 1\u001b[0;31m \u001b[0mdf1\u001b[0m \u001b[0;34m=\u001b[0m \u001b[0mdf1\u001b[0m\u001b[0;34m.\u001b[0m\u001b[0mdrop\u001b[0m\u001b[0;34m(\u001b[0m\u001b[0mdrop_columns\u001b[0m\u001b[0;34m,\u001b[0m \u001b[0maxis\u001b[0m\u001b[0;34m=\u001b[0m \u001b[0;36m1\u001b[0m\u001b[0;34m)\u001b[0m\u001b[0;34m\u001b[0m\u001b[0;34m\u001b[0m\u001b[0m\n\u001b[0m",
      "\u001b[0;32m/data/kmohan/anaconda3/lib/python3.9/site-packages/pandas/util/_decorators.py\u001b[0m in \u001b[0;36mwrapper\u001b[0;34m(*args, **kwargs)\u001b[0m\n\u001b[1;32m    309\u001b[0m                     \u001b[0mstacklevel\u001b[0m\u001b[0;34m=\u001b[0m\u001b[0mstacklevel\u001b[0m\u001b[0;34m,\u001b[0m\u001b[0;34m\u001b[0m\u001b[0;34m\u001b[0m\u001b[0m\n\u001b[1;32m    310\u001b[0m                 )\n\u001b[0;32m--> 311\u001b[0;31m             \u001b[0;32mreturn\u001b[0m \u001b[0mfunc\u001b[0m\u001b[0;34m(\u001b[0m\u001b[0;34m*\u001b[0m\u001b[0margs\u001b[0m\u001b[0;34m,\u001b[0m \u001b[0;34m**\u001b[0m\u001b[0mkwargs\u001b[0m\u001b[0;34m)\u001b[0m\u001b[0;34m\u001b[0m\u001b[0;34m\u001b[0m\u001b[0m\n\u001b[0m\u001b[1;32m    312\u001b[0m \u001b[0;34m\u001b[0m\u001b[0m\n\u001b[1;32m    313\u001b[0m         \u001b[0;32mreturn\u001b[0m \u001b[0mwrapper\u001b[0m\u001b[0;34m\u001b[0m\u001b[0;34m\u001b[0m\u001b[0m\n",
      "\u001b[0;32m/data/kmohan/anaconda3/lib/python3.9/site-packages/pandas/core/frame.py\u001b[0m in \u001b[0;36mdrop\u001b[0;34m(self, labels, axis, index, columns, level, inplace, errors)\u001b[0m\n\u001b[1;32m   4904\u001b[0m                 \u001b[0mweight\u001b[0m  \u001b[0;36m1.0\u001b[0m     \u001b[0;36m0.8\u001b[0m\u001b[0;34m\u001b[0m\u001b[0;34m\u001b[0m\u001b[0m\n\u001b[1;32m   4905\u001b[0m         \"\"\"\n\u001b[0;32m-> 4906\u001b[0;31m         return super().drop(\n\u001b[0m\u001b[1;32m   4907\u001b[0m             \u001b[0mlabels\u001b[0m\u001b[0;34m=\u001b[0m\u001b[0mlabels\u001b[0m\u001b[0;34m,\u001b[0m\u001b[0;34m\u001b[0m\u001b[0;34m\u001b[0m\u001b[0m\n\u001b[1;32m   4908\u001b[0m             \u001b[0maxis\u001b[0m\u001b[0;34m=\u001b[0m\u001b[0maxis\u001b[0m\u001b[0;34m,\u001b[0m\u001b[0;34m\u001b[0m\u001b[0;34m\u001b[0m\u001b[0m\n",
      "\u001b[0;32m/data/kmohan/anaconda3/lib/python3.9/site-packages/pandas/core/generic.py\u001b[0m in \u001b[0;36mdrop\u001b[0;34m(self, labels, axis, index, columns, level, inplace, errors)\u001b[0m\n\u001b[1;32m   4148\u001b[0m         \u001b[0;32mfor\u001b[0m \u001b[0maxis\u001b[0m\u001b[0;34m,\u001b[0m \u001b[0mlabels\u001b[0m \u001b[0;32min\u001b[0m \u001b[0maxes\u001b[0m\u001b[0;34m.\u001b[0m\u001b[0mitems\u001b[0m\u001b[0;34m(\u001b[0m\u001b[0;34m)\u001b[0m\u001b[0;34m:\u001b[0m\u001b[0;34m\u001b[0m\u001b[0;34m\u001b[0m\u001b[0m\n\u001b[1;32m   4149\u001b[0m             \u001b[0;32mif\u001b[0m \u001b[0mlabels\u001b[0m \u001b[0;32mis\u001b[0m \u001b[0;32mnot\u001b[0m \u001b[0;32mNone\u001b[0m\u001b[0;34m:\u001b[0m\u001b[0;34m\u001b[0m\u001b[0;34m\u001b[0m\u001b[0m\n\u001b[0;32m-> 4150\u001b[0;31m                 \u001b[0mobj\u001b[0m \u001b[0;34m=\u001b[0m \u001b[0mobj\u001b[0m\u001b[0;34m.\u001b[0m\u001b[0m_drop_axis\u001b[0m\u001b[0;34m(\u001b[0m\u001b[0mlabels\u001b[0m\u001b[0;34m,\u001b[0m \u001b[0maxis\u001b[0m\u001b[0;34m,\u001b[0m \u001b[0mlevel\u001b[0m\u001b[0;34m=\u001b[0m\u001b[0mlevel\u001b[0m\u001b[0;34m,\u001b[0m \u001b[0merrors\u001b[0m\u001b[0;34m=\u001b[0m\u001b[0merrors\u001b[0m\u001b[0;34m)\u001b[0m\u001b[0;34m\u001b[0m\u001b[0;34m\u001b[0m\u001b[0m\n\u001b[0m\u001b[1;32m   4151\u001b[0m \u001b[0;34m\u001b[0m\u001b[0m\n\u001b[1;32m   4152\u001b[0m         \u001b[0;32mif\u001b[0m \u001b[0minplace\u001b[0m\u001b[0;34m:\u001b[0m\u001b[0;34m\u001b[0m\u001b[0;34m\u001b[0m\u001b[0m\n",
      "\u001b[0;32m/data/kmohan/anaconda3/lib/python3.9/site-packages/pandas/core/generic.py\u001b[0m in \u001b[0;36m_drop_axis\u001b[0;34m(self, labels, axis, level, errors)\u001b[0m\n\u001b[1;32m   4183\u001b[0m                 \u001b[0mnew_axis\u001b[0m \u001b[0;34m=\u001b[0m \u001b[0maxis\u001b[0m\u001b[0;34m.\u001b[0m\u001b[0mdrop\u001b[0m\u001b[0;34m(\u001b[0m\u001b[0mlabels\u001b[0m\u001b[0;34m,\u001b[0m \u001b[0mlevel\u001b[0m\u001b[0;34m=\u001b[0m\u001b[0mlevel\u001b[0m\u001b[0;34m,\u001b[0m \u001b[0merrors\u001b[0m\u001b[0;34m=\u001b[0m\u001b[0merrors\u001b[0m\u001b[0;34m)\u001b[0m\u001b[0;34m\u001b[0m\u001b[0;34m\u001b[0m\u001b[0m\n\u001b[1;32m   4184\u001b[0m             \u001b[0;32melse\u001b[0m\u001b[0;34m:\u001b[0m\u001b[0;34m\u001b[0m\u001b[0;34m\u001b[0m\u001b[0m\n\u001b[0;32m-> 4185\u001b[0;31m                 \u001b[0mnew_axis\u001b[0m \u001b[0;34m=\u001b[0m \u001b[0maxis\u001b[0m\u001b[0;34m.\u001b[0m\u001b[0mdrop\u001b[0m\u001b[0;34m(\u001b[0m\u001b[0mlabels\u001b[0m\u001b[0;34m,\u001b[0m \u001b[0merrors\u001b[0m\u001b[0;34m=\u001b[0m\u001b[0merrors\u001b[0m\u001b[0;34m)\u001b[0m\u001b[0;34m\u001b[0m\u001b[0;34m\u001b[0m\u001b[0m\n\u001b[0m\u001b[1;32m   4186\u001b[0m             \u001b[0mresult\u001b[0m \u001b[0;34m=\u001b[0m \u001b[0mself\u001b[0m\u001b[0;34m.\u001b[0m\u001b[0mreindex\u001b[0m\u001b[0;34m(\u001b[0m\u001b[0;34m**\u001b[0m\u001b[0;34m{\u001b[0m\u001b[0maxis_name\u001b[0m\u001b[0;34m:\u001b[0m \u001b[0mnew_axis\u001b[0m\u001b[0;34m}\u001b[0m\u001b[0;34m)\u001b[0m\u001b[0;34m\u001b[0m\u001b[0;34m\u001b[0m\u001b[0m\n\u001b[1;32m   4187\u001b[0m \u001b[0;34m\u001b[0m\u001b[0m\n",
      "\u001b[0;32m/data/kmohan/anaconda3/lib/python3.9/site-packages/pandas/core/indexes/base.py\u001b[0m in \u001b[0;36mdrop\u001b[0;34m(self, labels, errors)\u001b[0m\n\u001b[1;32m   6015\u001b[0m         \u001b[0;32mif\u001b[0m \u001b[0mmask\u001b[0m\u001b[0;34m.\u001b[0m\u001b[0many\u001b[0m\u001b[0;34m(\u001b[0m\u001b[0;34m)\u001b[0m\u001b[0;34m:\u001b[0m\u001b[0;34m\u001b[0m\u001b[0;34m\u001b[0m\u001b[0m\n\u001b[1;32m   6016\u001b[0m             \u001b[0;32mif\u001b[0m \u001b[0merrors\u001b[0m \u001b[0;34m!=\u001b[0m \u001b[0;34m\"ignore\"\u001b[0m\u001b[0;34m:\u001b[0m\u001b[0;34m\u001b[0m\u001b[0;34m\u001b[0m\u001b[0m\n\u001b[0;32m-> 6017\u001b[0;31m                 \u001b[0;32mraise\u001b[0m \u001b[0mKeyError\u001b[0m\u001b[0;34m(\u001b[0m\u001b[0;34mf\"{labels[mask]} not found in axis\"\u001b[0m\u001b[0;34m)\u001b[0m\u001b[0;34m\u001b[0m\u001b[0;34m\u001b[0m\u001b[0m\n\u001b[0m\u001b[1;32m   6018\u001b[0m             \u001b[0mindexer\u001b[0m \u001b[0;34m=\u001b[0m \u001b[0mindexer\u001b[0m\u001b[0;34m[\u001b[0m\u001b[0;34m~\u001b[0m\u001b[0mmask\u001b[0m\u001b[0;34m]\u001b[0m\u001b[0;34m\u001b[0m\u001b[0;34m\u001b[0m\u001b[0m\n\u001b[1;32m   6019\u001b[0m         \u001b[0;32mreturn\u001b[0m \u001b[0mself\u001b[0m\u001b[0;34m.\u001b[0m\u001b[0mdelete\u001b[0m\u001b[0;34m(\u001b[0m\u001b[0mindexer\u001b[0m\u001b[0;34m)\u001b[0m\u001b[0;34m\u001b[0m\u001b[0;34m\u001b[0m\u001b[0m\n",
      "\u001b[0;31mKeyError\u001b[0m: \"['srcMac' 'srcIP' 'dstMac' 'hdrDesc' 'dstIP'] not found in axis\""
     ]
    }
   ],
   "source": [
    "df1 = df1.drop(drop_columns, axis= 1)"
   ]
  },
  {
   "cell_type": "code",
   "execution_count": null,
   "id": "300b6864",
   "metadata": {},
   "outputs": [],
   "source": [
    "df1.to_csv('./scada data file/final_flow1.csv', index= False)"
   ]
  },
  {
   "cell_type": "code",
   "execution_count": null,
   "id": "6e19ce89",
   "metadata": {},
   "outputs": [],
   "source": []
  }
 ],
 "metadata": {
  "kernelspec": {
   "display_name": "Python 3 (ipykernel)",
   "language": "python",
   "name": "python3"
  },
  "language_info": {
   "codemirror_mode": {
    "name": "ipython",
    "version": 3
   },
   "file_extension": ".py",
   "mimetype": "text/x-python",
   "name": "python",
   "nbconvert_exporter": "python",
   "pygments_lexer": "ipython3",
   "version": "3.9.7"
  }
 },
 "nbformat": 4,
 "nbformat_minor": 5
}
