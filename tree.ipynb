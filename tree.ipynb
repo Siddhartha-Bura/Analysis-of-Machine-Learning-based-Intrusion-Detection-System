{
 "cells": [
  {
   "cell_type": "code",
   "execution_count": 11,
   "id": "050ead8e",
   "metadata": {},
   "outputs": [],
   "source": [
    "def print_list_dir(dir):\n",
    "    print(\"=\" * 64)\n",
    "    print(\"[PRINT LIST DIR] %s\" % dir)\n",
    "    print(\"=\" * 64)\n",
    "    for root, dirs, files in os.walk(dir):\n",
    "        level = root.replace(dir, '').count(os.sep)\n",
    "        indent = '| ' * level\n",
    "        print('{}{} \\\\'.format(indent, os.path.basename(root)))\n",
    "        subindent = '| ' * (level + 1)\n",
    "        for f in files:\n",
    "            print('{}{}'.format(subindent, f))\n",
    "    print(\"=\" * 64)"
   ]
  },
  {
   "cell_type": "code",
   "execution_count": 12,
   "id": "939cfb24",
   "metadata": {},
   "outputs": [
    {
     "name": "stdout",
     "output_type": "stream",
     "text": [
      "================================================================\n",
      "[PRINT LIST DIR] /data/kmohan/MalwareAnalysisProject/Submission\n",
      "================================================================\n",
      "Submission \\\n",
      "| requirements.txt\n",
      "| Malware Analysis PPT.pptx\n",
      "| tree.ipynb\n",
      "| README.txt\n",
      "| Notebooks \\\n",
      "| | .ipynb_checkpoints \\\n",
      "| | Untitled Folder 2 \\\n",
      "| | Untitled Folder 1 \\\n",
      "| | NslKDD \\\n",
      "| | | neuroevolutionary_Nslkdd.ipynb\n",
      "| | | ga.ipynb\n",
      "| | | .ipynb_checkpoints \\\n",
      "| | | | neuroevolutionary_Nslkdd-checkpoint.ipynb\n",
      "| | | | ga-checkpoint.ipynb\n",
      "| | UNSW_2015 \\\n",
      "| .ipynb_checkpoints \\\n",
      "| | tree-checkpoint.ipynb\n",
      "| Datasets \\\n",
      "| | .ipynb_checkpoints \\\n",
      "| | NslKDD \\\n",
      "| | | KDDTest+.txt\n",
      "| | | KDDTrain+.txt\n",
      "| | | .ipynb_checkpoints \\\n",
      "| | UNSW_2015 \\\n",
      "| | | UNSW_NB15_training-set.csv\n",
      "| | | UNSW_NB15_testing-set.csv\n",
      "| | | .ipynb_checkpoints \\\n",
      "================================================================\n"
     ]
    }
   ],
   "source": [
    "print_list_dir('/data/kmohan/MalwareAnalysisProject/Submission')"
   ]
  },
  {
   "cell_type": "code",
   "execution_count": null,
   "id": "84f65ffd",
   "metadata": {},
   "outputs": [],
   "source": []
  }
 ],
 "metadata": {
  "kernelspec": {
   "display_name": "Python 3 (ipykernel)",
   "language": "python",
   "name": "python3"
  },
  "language_info": {
   "codemirror_mode": {
    "name": "ipython",
    "version": 3
   },
   "file_extension": ".py",
   "mimetype": "text/x-python",
   "name": "python",
   "nbconvert_exporter": "python",
   "pygments_lexer": "ipython3",
   "version": "3.9.7"
  }
 },
 "nbformat": 4,
 "nbformat_minor": 5
}
